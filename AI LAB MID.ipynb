{
  "nbformat": 4,
  "nbformat_minor": 0,
  "metadata": {
    "colab": {
      "provenance": []
    },
    "kernelspec": {
      "name": "python3",
      "display_name": "Python 3"
    },
    "language_info": {
      "name": "python"
    }
  },
  "cells": [
    {
      "cell_type": "markdown",
      "source": [
        "Activity 1"
      ],
      "metadata": {
        "id": "6LYXOqPoV6YB"
      }
    },
    {
      "cell_type": "code",
      "execution_count": 3,
      "metadata": {
        "colab": {
          "base_uri": "https://localhost:8080/",
          "height": 130
        },
        "id": "0t3AzrhvJ46g",
        "outputId": "ea870c47-6422-4185-b01f-cbe1afe78037"
      },
      "outputs": [
        {
          "output_type": "error",
          "ename": "SyntaxError",
          "evalue": "ignored",
          "traceback": [
            "\u001b[0;36m  File \u001b[0;32m\"<ipython-input-3-05f127cf00fa>\"\u001b[0;36m, line \u001b[0;32m2\u001b[0m\n\u001b[0;31m    def_init_(self,state,parent,actions,totalCost):\u001b[0m\n\u001b[0m                                                  ^\u001b[0m\n\u001b[0;31mSyntaxError\u001b[0m\u001b[0;31m:\u001b[0m invalid syntax\n"
          ]
        }
      ],
      "source": [
        "  \n",
        "  class Node:\n",
        "    def_init_(self,state,parent,actions,totalCost):\n",
        "        self.state=state\n",
        "        self.parent=parent\n",
        "        self.actions=actions\n",
        "        self.totalCost=totalCost\n",
        "graph={'A': Node('A',None,['B', 'E', 'C'],None),\n",
        "       'B': Node('B',None,['D', 'E', 'A'],None),\n",
        "       'C': Node('C',None,['A', 'F', 'G'],None),\n",
        "       'D': Node('D',None,['B', 'E',],None),\n",
        "       'E': Node('E',None,['A', 'B', 'D'],None),\n",
        "       'F': Node('F',None,['C', ],None),\n",
        "       'G': Node('G',None,['C', ],None),\n",
        "  }\n",
        "  "
      ]
    },
    {
      "cell_type": "markdown",
      "source": [
        "Home Activity"
      ],
      "metadata": {
        "id": "IM03v9b2V2Fk"
      }
    },
    {
      "cell_type": "markdown",
      "source": [],
      "metadata": {
        "id": "kfJ27LB_Wzji"
      }
    },
    {
      "cell_type": "code",
      "source": [
        "from queue import PriorityQueue\n",
        "\n",
        "# Define the graph as a dictionary of dictionaries\n",
        "graph = {'Arad': {'Zerind': 75, 'Sibiu': 140, 'Timisoara': 118},\n",
        "         'Zerind': {'Arad': 75, 'Oradea': 71},\n",
        "         'Oradea': {'Zerind': 71, 'Sibiu': 151},\n",
        "         'Sibiu': {'Arad': 140, 'Oradea': 151, 'Fagaras': 99, 'Rimnicu Vilcea': 80},\n",
        "         'Timisoara': {'Arad': 118, 'Lugoj': 111},\n",
        "         'Lugoj': {'Timisoara': 111, 'Mehadia': 70},\n",
        "         'Mehadia': {'Lugoj': 70, 'Drobeta': 75},\n",
        "         'Drobeta': {'Mehadia': 75, 'Craiova': 120},\n",
        "         'Craiova': {'Drobeta': 120, 'Rimnicu Vilcea': 146, 'Pitesti': 138},\n",
        "         'Rimnicu Vilcea': {'Sibiu': 80, 'Craiova': 146, 'Pitesti': 97},\n",
        "         'Fagaras': {'Sibiu': 99, 'Bucharest': 211},\n",
        "         'Pitesti': {'Rimnicu Vilcea': 97, 'Craiova': 138, 'Bucharest': 101},\n",
        "         'Bucharest': {'Fagaras': 211, 'Pitesti': 101}}\n",
        "\n",
        "def uniform_cost_search(graph, start, goal):\n",
        "    frontier = PriorityQueue()\n",
        "    frontier.put((0, start))\n",
        "    explored = []\n",
        "    path = {}\n",
        "    path[start] = None\n",
        "\n",
        "    while not frontier.empty():\n",
        "        cost, current_node = frontier.get()\n",
        "        explored.append(current_node)\n",
        "\n",
        "        if current_node == goal:\n",
        "            final_path = []\n",
        "            while current_node in path:\n",
        "                final_path.append(current_node)\n",
        "                current_node = path[current_node]\n",
        "            final_path.reverse()\n",
        "            return final_path\n",
        "\n",
        "        for neighbor, neighbor_cost in graph[current_node].items():\n",
        "            if neighbor not in explored:\n",
        "                new_cost = cost + neighbor_cost\n",
        "                if neighbor not in [node[1] for node in frontier.queue]:\n",
        "                    frontier.put((new_cost, neighbor))\n",
        "                    path[neighbor] = current_node\n",
        "                elif new_cost < [node[0] for node in frontier.queue if node[1] == neighbor][0]:\n",
        "                    frontier.get([node for node in frontier.queue if node[1] == neighbor][0])\n",
        "                    frontier.put((new_cost, neighbor))\n",
        "                    path[neighbor] = current_node\n",
        "\n",
        "    return None\n",
        "\n",
        "# Test the uniform cost search algorithm\n",
        "start_node = 'Arad'\n",
        "goal_node = 'Bucharest'\n",
        "result_path = uniform_cost_search(graph, start_node, goal_node)\n",
        "\n",
        "if result_path:\n",
        "    print(\"The minimum distance path from\", start_node, \"to\", goal_node, \"is:\")\n",
        "    print(result_path)\n",
        "    print(\"The total distance is:\", sum(graph[result_path[i]][result_path[i+1]] for i in range(len(result_path)-1)))\n",
        "else:\n",
        "    print(\"Goal not reachable from the starting node\")"
      ],
      "metadata": {
        "colab": {
          "base_uri": "https://localhost:8080/"
        },
        "id": "YiuxSPjJRLLG",
        "outputId": "f46bdc7d-a5b8-4fa4-c10d-c1769d919be2"
      },
      "execution_count": 4,
      "outputs": [
        {
          "output_type": "stream",
          "name": "stdout",
          "text": [
            "The minimum distance path from Arad to Bucharest is:\n",
            "['Arad', 'Sibiu', 'Rimnicu Vilcea', 'Pitesti', 'Bucharest']\n",
            "The total distance is: 418\n"
          ]
        }
      ]
    },
    {
      "cell_type": "markdown",
      "source": [
        "Activity 2"
      ],
      "metadata": {
        "id": "dQJqp73lVwGR"
      }
    },
    {
      "cell_type": "code",
      "source": [
        "class node:\n",
        "  def __init__(self,state,parent,actions,totalcost):\n",
        "    self.state = state\n",
        "    self.parent = parent\n",
        "    self.actions = actions\n",
        "    self.totalcost = totalcost\n",
        "\n",
        "def actionSequence(graph,initialstate,goalstate):\n",
        "  solution = [goalstate]\n",
        "  currentparent = graph[goalstate].parent\n",
        "  \n",
        "  while currentparent != None:\n",
        "    \n",
        "    solution.append(currentparent)\n",
        "    currentparent = graph[currentparent].parent\n",
        "\n",
        "  solution.reverse()\n",
        "  return solution\n",
        "\n",
        "def dfs(initialstate,goalstate):\n",
        "  \n",
        "  graph = {'A': node('A',None,['B','C','E'],None),\n",
        "           'B': node('B',None,['A','D','E'],None),\n",
        "           'C': node('C',None,['A','F','G'],None),\n",
        "           'D': node('D',None,['B','E'],None),\n",
        "           'E': node('E',None,['A','B','D'],None),\n",
        "           'F': node('F',None,['C'],None),\n",
        "           'G': node('G',None,['C'],None)\n",
        "          }\n",
        "  frontier = [initialstate]\n",
        "  explored = []\n",
        "  currentChildren = 0\n",
        "  while frontier:\n",
        "    currentnode = frontier.pop(len(frontier)-1)\n",
        "    explored.append(currentnode)\n",
        "    for child in graph[currentnode].actions:\n",
        "      if child not in frontier and child not in explored:\n",
        "        graph[child].parent = currentnode\n",
        "        if graph[child].state == goalstate:\n",
        "          # print(explored)\n",
        "          return actionSequence(graph,initialstate,goalstate)\n",
        "        currentChildren=currentChildren+1\n",
        "        frontier.append(child)\n",
        "  if currentChildren == 0 :\n",
        "    del explored[len(explored)-1]\n",
        "solution = dfs('A','D')\n",
        "print(solution)\n",
        "\n",
        "  \n"
      ],
      "metadata": {
        "colab": {
          "base_uri": "https://localhost:8080/"
        },
        "id": "x1b6NS3GRW14",
        "outputId": "77861d6d-d973-451c-b522-79f48a5eca24"
      },
      "execution_count": 5,
      "outputs": [
        {
          "output_type": "stream",
          "name": "stdout",
          "text": [
            "['A', 'E', 'D']\n"
          ]
        }
      ]
    },
    {
      "cell_type": "markdown",
      "source": [
        "Activity 3"
      ],
      "metadata": {
        "id": "0S9P2xjQW2p6"
      }
    },
    {
      "cell_type": "code",
      "source": [
        "class node:\n",
        "  def __init__(self,state,parent,actions,totalcost):\n",
        "    self.state = state\n",
        "    self.parent = parent\n",
        "    self.actions = actions\n",
        "    self.totalcost = totalcost\n",
        "\n",
        "def actionSequence(graph,initialstate,goalstate):\n",
        "  solution = [goalstate]\n",
        "  currentparent = graph[goalstate].parent\n",
        "  \n",
        "  while currentparent != None:\n",
        "    \n",
        "    solution.append(currentparent)\n",
        "    currentparent = graph[currentparent].parent\n",
        "\n",
        "  solution.reverse()\n",
        "  return solution\n",
        "\n",
        "def bfs(initialstate,goalstate):\n",
        "  \n",
        "  graph = {'A': node('A',None,['B','C','E'],None),\n",
        "           'B': node('B',None,['A','D','E'],None),\n",
        "           'C': node('C',None,['A','F','G'],None),\n",
        "           'D': node('D',None,['B','E'],None),\n",
        "           'E': node('E',None,['A','B','D'],None),\n",
        "           'F': node('F',None,['C'],None),\n",
        "           'G': node('G',None,['C'],None)\n",
        "          }\n",
        "  frontier = [initialstate]\n",
        "  explored = []\n",
        "  while frontier:\n",
        "    currentnode = frontier.pop(0)\n",
        "    explored.append(currentnode)\n",
        "    for child in graph[currentnode].actions:\n",
        "      if child not in frontier and child not in explored:\n",
        "        graph[child].parent = currentnode\n",
        "        if graph[child].state == goalstate:\n",
        "          return actionSequence(graph,initialstate,goalstate)\n",
        "        frontier.append(child)\n",
        "solution = bfs('D','C')\n",
        "print(solution)\n",
        "\n",
        "\n",
        "  \n"
      ],
      "metadata": {
        "colab": {
          "base_uri": "https://localhost:8080/"
        },
        "id": "d1HUVXVAW8J3",
        "outputId": "ab99861d-63b4-4a83-9ac7-d208f93c6269"
      },
      "execution_count": 6,
      "outputs": [
        {
          "output_type": "stream",
          "name": "stdout",
          "text": [
            "['D', 'B', 'A', 'C']\n"
          ]
        }
      ]
    },
    {
      "cell_type": "markdown",
      "source": [
        "Activity 4"
      ],
      "metadata": {
        "id": "RB2j3tTei3zR"
      }
    },
    {
      "cell_type": "code",
      "source": [
        "graph = {'A': {'B':6,'C':9,'E':1},\n",
        "         'B':{'A':6, 'D':3,'E':4 },\n",
        "        'C': {'A':9, 'F':2,'G':3},\n",
        "        'D': {'B':3, 'E':5, 'F':7}, \n",
        "        'E':{'A':1,'B':4,'D':5 ,'F':6},\n",
        "        'F': { 'C':2,'E':6,'D':7},\n",
        "        'G':{'C':3} }\n",
        "\n",
        "\n",
        "def uniform_cost_search(graph, start, goal):\n",
        "    frontier = PriorityQueue()\n",
        "    frontier.put((0, start))\n",
        "    explored = []\n",
        "    path = {}\n",
        "    path[start] = None\n",
        "\n",
        "    while not frontier.empty():\n",
        "        cost, current_node = frontier.get()\n",
        "        explored.append(current_node)\n",
        "\n",
        "        if current_node == goal:\n",
        "            final_path = []\n",
        "            while current_node in path:\n",
        "                final_path.append(current_node)\n",
        "                current_node = path[current_node]\n",
        "            final_path.reverse()\n",
        "            return final_path\n",
        "\n",
        "        for neighbor, neighbor_cost in graph[current_node].items():  \n",
        "            if neighbor not in explored:\n",
        "                new_cost = cost + neighbor_cost\n",
        "                if neighbor not in [node[1] for node in frontier.queue]:\n",
        "                    frontier.put((new_cost, neighbor))\n",
        "                    path[neighbor] = current_node\n",
        "                elif new_cost < [node[0] for node in frontier.queue if node[1] == neighbor][0]:\n",
        "                    frontier.get([node for node in frontier.queue if node[1] == neighbor][0])\n",
        "                    frontier.put((new_cost, neighbor))\n",
        "                    path[neighbor] = current_node\n",
        "\n",
        "    return None\n",
        "\n",
        "\n",
        "start_node = 'C'\n",
        "goal_node = 'B'\n",
        "result_path = uniform_cost_search(graph, start_node, goal_node)\n",
        "\n",
        "if result_path:\n",
        "    print(\"The minimum distance path from\", start_node, \"to\", goal_node, \"is:\")\n",
        "    print(result_path)\n",
        "    print(\"The total distance is:\", sum(graph[result_path[i]][result_path[i+1]] for i in range(len(result_path)-1)))\n",
        "else:\n",
        "    print(\"Goal not reachable from the starting node\")"
      ],
      "metadata": {
        "colab": {
          "base_uri": "https://localhost:8080/"
        },
        "id": "cLbgLmNAkL4t",
        "outputId": "5d921fe5-c8e7-4ab2-be7c-8a1927d7002b"
      },
      "execution_count": 7,
      "outputs": [
        {
          "output_type": "stream",
          "name": "stdout",
          "text": [
            "The minimum distance path from C to B is:\n",
            "['C', 'F', 'E', 'B']\n",
            "The total distance is: 12\n"
          ]
        }
      ]
    }
  ]
}